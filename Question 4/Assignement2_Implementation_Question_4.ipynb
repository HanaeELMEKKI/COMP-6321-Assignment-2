{
  "nbformat": 4,
  "nbformat_minor": 0,
  "metadata": {
    "colab": {
      "provenance": [],
      "authorship_tag": "ABX9TyNWOMjo0AGZTm3mI+2LQEhz",
      "include_colab_link": true
    },
    "kernelspec": {
      "name": "python3",
      "display_name": "Python 3"
    },
    "language_info": {
      "name": "python"
    }
  },
  "cells": [
    {
      "cell_type": "markdown",
      "metadata": {
        "id": "view-in-github",
        "colab_type": "text"
      },
      "source": [
        "<a href=\"https://colab.research.google.com/github/HanaeELMEKKI/COMP-6321-Assignment-2/blob/main/Question%204/Assignement2_Implementation_Question_4.ipynb\" target=\"_parent\"><img src=\"https://colab.research.google.com/assets/colab-badge.svg\" alt=\"Open In Colab\"/></a>"
      ]
    },
    {
      "cell_type": "markdown",
      "source": [
        "# **Implementation Question 4**"
      ],
      "metadata": {
        "id": "wUUCPcbhrNI3"
      }
    },
    {
      "cell_type": "code",
      "source": [
        "import pandas as pd\n",
        "from sklearn.model_selection import train_test_split\n",
        "from sklearn.preprocessing import LabelEncoder"
      ],
      "metadata": {
        "id": "aVlV2g1ysbci"
      },
      "execution_count": null,
      "outputs": []
    },
    {
      "cell_type": "markdown",
      "source": [
        "**Pre-processing the data**"
      ],
      "metadata": {
        "id": "LAZebMeXtysx"
      }
    },
    {
      "cell_type": "markdown",
      "source": [
        "**Train KNN**"
      ],
      "metadata": {
        "id": "rUZu6D_It3J3"
      }
    },
    {
      "cell_type": "markdown",
      "source": [
        "**Train SVM**"
      ],
      "metadata": {
        "id": "Fxxs2q6MuDV-"
      }
    },
    {
      "cell_type": "markdown",
      "source": [
        "**Train GaussianNB**"
      ],
      "metadata": {
        "id": "Rgqka2TJuLag"
      }
    },
    {
      "cell_type": "markdown",
      "source": [
        "**Train Decision Tree**"
      ],
      "metadata": {
        "id": "Zr31eXYmw8HS"
      }
    },
    {
      "cell_type": "markdown",
      "source": [
        "**Train AdaBoost**"
      ],
      "metadata": {
        "id": "6eVDKDYHw8q1"
      }
    },
    {
      "cell_type": "markdown",
      "source": [
        "**Comparison**"
      ],
      "metadata": {
        "id": "07QgzWRUzS8n"
      }
    }
  ]
}