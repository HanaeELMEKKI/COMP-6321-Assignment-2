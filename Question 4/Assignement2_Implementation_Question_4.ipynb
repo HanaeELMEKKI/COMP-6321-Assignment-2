{
  "nbformat": 4,
  "nbformat_minor": 0,
  "metadata": {
    "colab": {
      "provenance": [],
      "authorship_tag": "ABX9TyNq5LNJUl3+O1E4DMdi1jKz",
      "include_colab_link": true
    },
    "kernelspec": {
      "name": "python3",
      "display_name": "Python 3"
    },
    "language_info": {
      "name": "python"
    }
  },
  "cells": [
    {
      "cell_type": "markdown",
      "metadata": {
        "id": "view-in-github",
        "colab_type": "text"
      },
      "source": [
        "<a href=\"https://colab.research.google.com/github/HanaeELMEKKI/COMP-6321-Assignment-2/blob/main/Question%204/Assignement2_Implementation_Question_4.ipynb\" target=\"_parent\"><img src=\"https://colab.research.google.com/assets/colab-badge.svg\" alt=\"Open In Colab\"/></a>"
      ]
    },
    {
      "cell_type": "markdown",
      "source": [
        "# **Implementation Question 4**"
      ],
      "metadata": {
        "id": "wUUCPcbhrNI3"
      }
    },
    {
      "cell_type": "code",
      "source": [
        "import pandas as pd\n",
        "from sklearn.model_selection import train_test_split\n",
        "from sklearn.preprocessing import LabelEncoder\n",
        "from sklearn.neighbors import KNeighborsClassifier\n",
        "from sklearn.metrics import classification_report\n",
        "from sklearn.svm import SVC\n",
        "from sklearn.naive_bayes import GaussianNB\n",
        "from sklearn.tree import DecisionTreeClassifier\n",
        "from sklearn.ensemble import AdaBoostClassifier"
      ],
      "metadata": {
        "id": "aVlV2g1ysbci"
      },
      "execution_count": 58,
      "outputs": []
    },
    {
      "cell_type": "markdown",
      "source": [
        "**Pre-processing the data**"
      ],
      "metadata": {
        "id": "LAZebMeXtysx"
      }
    },
    {
      "cell_type": "code",
      "source": [
        "df = pd.read_csv('https://raw.githubusercontent.com/HanaeELMEKKI/COMP-6321-Assignment-2/main/Question%204/survey%20lung%20cancer.csv')\n",
        "label_encoder = LabelEncoder()\n",
        "df['GENDER'] = label_encoder.fit_transform(df['GENDER'])\n",
        "df_trn, df_tst = train_test_split( df, test_size=0.3,random_state=46)\n",
        "X_trn = df_trn.drop(columns=['LUNG_CANCER'])\n",
        "y_trn = df_trn['LUNG_CANCER']\n",
        "\n",
        "X_test = df_tst.drop(columns=['LUNG_CANCER'])\n",
        "y_test = df_tst['LUNG_CANCER']\n",
        "\n",
        "classifier_reports = []"
      ],
      "metadata": {
        "id": "8ktX8x7vs0HV"
      },
      "execution_count": 59,
      "outputs": []
    },
    {
      "cell_type": "markdown",
      "source": [
        "**Train KNN**"
      ],
      "metadata": {
        "id": "rUZu6D_It3J3"
      }
    },
    {
      "cell_type": "code",
      "source": [
        "knn_model = KNeighborsClassifier(n_neighbors=10)\n",
        "knn_model.fit(X_trn, y_trn)\n",
        "\n",
        "y_trn_pred_knn = knn_model.predict(X_trn)\n",
        "print(\"Classification Report for Training Set (KNN):\")\n",
        "print(classification_report(y_trn, y_trn_pred_knn))\n",
        "\n",
        "y_test_pred_knn = knn_model.predict(X_test)\n",
        "print(\"\\nClassification Report for Test Set (KNN):\")\n",
        "knn_report = classification_report(y_test, y_test_pred_knn)\n",
        "print(knn_report)\n",
        "classifier_reports.append({\"knn\":classification_report(y_test, y_test_pred_knn, output_dict=True)})"
      ],
      "metadata": {
        "colab": {
          "base_uri": "https://localhost:8080/"
        },
        "id": "Q7JiSUjGuPWp",
        "outputId": "0c488550-0023-4457-af57-86e3bf77b20c"
      },
      "execution_count": 60,
      "outputs": [
        {
          "output_type": "stream",
          "name": "stdout",
          "text": [
            "Classification Report for Training Set (KNN):\n",
            "              precision    recall  f1-score   support\n",
            "\n",
            "          NO       0.60      0.11      0.18        28\n",
            "         YES       0.88      0.99      0.93       188\n",
            "\n",
            "    accuracy                           0.88       216\n",
            "   macro avg       0.74      0.55      0.56       216\n",
            "weighted avg       0.85      0.88      0.84       216\n",
            "\n",
            "\n",
            "Classification Report for Test Set (KNN):\n",
            "              precision    recall  f1-score   support\n",
            "\n",
            "          NO       0.33      0.09      0.14        11\n",
            "         YES       0.89      0.98      0.93        82\n",
            "\n",
            "    accuracy                           0.87        93\n",
            "   macro avg       0.61      0.53      0.54        93\n",
            "weighted avg       0.82      0.87      0.84        93\n",
            "\n"
          ]
        }
      ]
    },
    {
      "cell_type": "markdown",
      "source": [
        "**Train SVM**"
      ],
      "metadata": {
        "id": "Fxxs2q6MuDV-"
      }
    },
    {
      "cell_type": "code",
      "source": [
        "svm_model = SVC()\n",
        "svm_model.fit(X_trn, y_trn)\n",
        "\n",
        "y_trn_pred_svm = svm_model.predict(X_trn)\n",
        "print(\"Classification Report for Training Set (SVM):\")\n",
        "print(classification_report(y_trn, y_trn_pred_svm,zero_division=1))\n",
        "\n",
        "y_test_pred_svm = svm_model.predict(X_test)\n",
        "print(\"\\nClassification Report for Test Set (SVM):\")\n",
        "svm_report = classification_report(y_test, y_test_pred_svm,zero_division=1)\n",
        "\n",
        "print(svm_report)\n",
        "classifier_reports.append({\"SVM\":classification_report(y_test, y_test_pred_svm,zero_division=1, output_dict=True)})"
      ],
      "metadata": {
        "colab": {
          "base_uri": "https://localhost:8080/"
        },
        "id": "BJfdlH8queHR",
        "outputId": "26bedec9-c75c-4409-ecbd-965309ee85e6"
      },
      "execution_count": 61,
      "outputs": [
        {
          "output_type": "stream",
          "name": "stdout",
          "text": [
            "Classification Report for Training Set (SVM):\n",
            "              precision    recall  f1-score   support\n",
            "\n",
            "          NO       1.00      0.00      0.00        28\n",
            "         YES       0.87      1.00      0.93       188\n",
            "\n",
            "    accuracy                           0.87       216\n",
            "   macro avg       0.94      0.50      0.47       216\n",
            "weighted avg       0.89      0.87      0.81       216\n",
            "\n",
            "\n",
            "Classification Report for Test Set (SVM):\n",
            "              precision    recall  f1-score   support\n",
            "\n",
            "          NO       1.00      0.00      0.00        11\n",
            "         YES       0.88      1.00      0.94        82\n",
            "\n",
            "    accuracy                           0.88        93\n",
            "   macro avg       0.94      0.50      0.47        93\n",
            "weighted avg       0.90      0.88      0.83        93\n",
            "\n"
          ]
        }
      ]
    },
    {
      "cell_type": "markdown",
      "source": [
        "**Train GaussianNB**"
      ],
      "metadata": {
        "id": "Rgqka2TJuLag"
      }
    },
    {
      "cell_type": "code",
      "source": [
        "nb_model = GaussianNB()\n",
        "nb_model.fit(X_trn, y_trn)\n",
        "\n",
        "y_trn_pred_nb = nb_model.predict(X_trn)\n",
        "print(\"Classification Report for Training Set (GaussianNB):\")\n",
        "print(classification_report(y_trn, y_trn_pred_nb))\n",
        "\n",
        "y_test_pred_nb = nb_model.predict(X_test)\n",
        "print(\"\\nClassification Report for Test Set (GaussianNB):\")\n",
        "\n",
        "gnb_report = classification_report(y_test, y_test_pred_nb)\n",
        "print(gnb_report)\n",
        "classifier_reports.append({\"Gaussian NB\":classification_report(y_test, y_test_pred_nb,output_dict= True)})"
      ],
      "metadata": {
        "colab": {
          "base_uri": "https://localhost:8080/"
        },
        "id": "rQuo_utguv1L",
        "outputId": "4c7ccff9-3df5-4206-8e25-add1a6b2e8a3"
      },
      "execution_count": 62,
      "outputs": [
        {
          "output_type": "stream",
          "name": "stdout",
          "text": [
            "Classification Report for Training Set (GaussianNB):\n",
            "              precision    recall  f1-score   support\n",
            "\n",
            "          NO       0.64      0.64      0.64        28\n",
            "         YES       0.95      0.95      0.95       188\n",
            "\n",
            "    accuracy                           0.91       216\n",
            "   macro avg       0.79      0.79      0.79       216\n",
            "weighted avg       0.91      0.91      0.91       216\n",
            "\n",
            "\n",
            "Classification Report for Test Set (GaussianNB):\n",
            "              precision    recall  f1-score   support\n",
            "\n",
            "          NO       0.64      0.64      0.64        11\n",
            "         YES       0.95      0.95      0.95        82\n",
            "\n",
            "    accuracy                           0.91        93\n",
            "   macro avg       0.79      0.79      0.79        93\n",
            "weighted avg       0.91      0.91      0.91        93\n",
            "\n"
          ]
        }
      ]
    },
    {
      "cell_type": "markdown",
      "source": [
        "**Train Decision Tree**"
      ],
      "metadata": {
        "id": "Zr31eXYmw8HS"
      }
    },
    {
      "cell_type": "code",
      "source": [
        "dt_model = DecisionTreeClassifier()\n",
        "dt_model.fit(X_trn, y_trn)\n",
        "\n",
        "y_trn_pred_dt = dt_model.predict(X_trn)\n",
        "print(\"Classification Report for Training Set (Decision Tree):\")\n",
        "print(classification_report(y_trn, y_trn_pred_dt))\n",
        "\n",
        "y_test_pred_dt = dt_model.predict(X_test)\n",
        "print(\"\\nClassification Report for Test Set (Decision Tree):\")\n",
        "\n",
        "dt_report = classification_report(y_test, y_test_pred_dt)\n",
        "print(dt_report)\n",
        "classifier_reports.append({\"Decision Tree\":classification_report(y_test, y_test_pred_dt, output_dict=True)})"
      ],
      "metadata": {
        "colab": {
          "base_uri": "https://localhost:8080/"
        },
        "id": "cJZpWpZxvBV-",
        "outputId": "57fd3fb9-77b8-4c2f-e573-9f494d0837b2"
      },
      "execution_count": 63,
      "outputs": [
        {
          "output_type": "stream",
          "name": "stdout",
          "text": [
            "Classification Report for Training Set (Decision Tree):\n",
            "              precision    recall  f1-score   support\n",
            "\n",
            "          NO       0.97      1.00      0.98        28\n",
            "         YES       1.00      0.99      1.00       188\n",
            "\n",
            "    accuracy                           1.00       216\n",
            "   macro avg       0.98      1.00      0.99       216\n",
            "weighted avg       1.00      1.00      1.00       216\n",
            "\n",
            "\n",
            "Classification Report for Test Set (Decision Tree):\n",
            "              precision    recall  f1-score   support\n",
            "\n",
            "          NO       0.78      0.64      0.70        11\n",
            "         YES       0.95      0.98      0.96        82\n",
            "\n",
            "    accuracy                           0.94        93\n",
            "   macro avg       0.87      0.81      0.83        93\n",
            "weighted avg       0.93      0.94      0.93        93\n",
            "\n"
          ]
        }
      ]
    },
    {
      "cell_type": "markdown",
      "source": [
        "**Train AdaBoost**"
      ],
      "metadata": {
        "id": "6eVDKDYHw8q1"
      }
    },
    {
      "cell_type": "code",
      "source": [
        "adaboost_model = AdaBoostClassifier(n_estimators=50, random_state=42)\n",
        "adaboost_model.fit(X_trn, y_trn)\n",
        "\n",
        "y_trn_pred_ab = adaboost_model.predict(X_trn)\n",
        "print(\"Classification Report for Training Set (AdaBoost):\")\n",
        "print(classification_report(y_trn, y_trn_pred_ab))\n",
        "\n",
        "y_test_pred_ab = adaboost_model.predict(X_test)\n",
        "print(\"\\nClassification Report for Test Set (AdaBoost):\")\n",
        "\n",
        "ada_report = classification_report(y_test, y_test_pred_ab)\n",
        "print(ada_report)\n",
        "classifier_reports.append({\"Ada Boost\": classification_report(y_test, y_test_pred_ab, output_dict=True)})"
      ],
      "metadata": {
        "colab": {
          "base_uri": "https://localhost:8080/"
        },
        "id": "CWHlLaZjvDn5",
        "outputId": "31d4dea5-5ba8-406b-ba1c-438f4dcef276"
      },
      "execution_count": 64,
      "outputs": [
        {
          "output_type": "stream",
          "name": "stdout",
          "text": [
            "Classification Report for Training Set (AdaBoost):\n",
            "              precision    recall  f1-score   support\n",
            "\n",
            "          NO       0.75      0.64      0.69        28\n",
            "         YES       0.95      0.97      0.96       188\n",
            "\n",
            "    accuracy                           0.93       216\n",
            "   macro avg       0.85      0.81      0.83       216\n",
            "weighted avg       0.92      0.93      0.92       216\n",
            "\n",
            "\n",
            "Classification Report for Test Set (AdaBoost):\n",
            "              precision    recall  f1-score   support\n",
            "\n",
            "          NO       1.00      0.64      0.78        11\n",
            "         YES       0.95      1.00      0.98        82\n",
            "\n",
            "    accuracy                           0.96        93\n",
            "   macro avg       0.98      0.82      0.88        93\n",
            "weighted avg       0.96      0.96      0.95        93\n",
            "\n"
          ]
        }
      ]
    },
    {
      "cell_type": "code",
      "source": [
        "comparative_classification_report = pd.DataFrame(columns=['Classifier', 'Accuracy', 'Precision', 'F1-Score'])\n",
        "\n",
        "for report_dict in classifier_reports:\n",
        "    for clf_name, report in report_dict.items():\n",
        "      accuracy = report['accuracy']\n",
        "      precision = report['macro avg']['precision']\n",
        "      f1_score = report['macro avg']['f1-score']\n",
        "      comparative_classification_report = comparative_classification_report.append({\n",
        "          'Classifier': clf_name,\n",
        "          'Accuracy': accuracy,\n",
        "          'Precision': precision,\n",
        "          'F1-Score': f1_score\n",
        "      }, ignore_index=True)\n",
        "print(comparative_classification_report)"
      ],
      "metadata": {
        "colab": {
          "base_uri": "https://localhost:8080/"
        },
        "id": "0DrIvDbAU5Bd",
        "outputId": "1b95f5b6-00b3-48b0-da96-63ec8b57aae1"
      },
      "execution_count": 71,
      "outputs": [
        {
          "output_type": "stream",
          "name": "stdout",
          "text": [
            "      Classifier  Accuracy  Precision  F1-Score\n",
            "0            knn  0.870968   0.611111  0.536545\n",
            "1            SVM  0.881720   0.940860  0.468571\n",
            "2    Gaussian NB  0.913978   0.793792  0.793792\n",
            "3  Decision Tree  0.935484   0.865079  0.831928\n",
            "4      Ada Boost  0.956989   0.976744  0.876984\n"
          ]
        },
        {
          "output_type": "stream",
          "name": "stderr",
          "text": [
            "<ipython-input-71-9de7d4d76a99>:8: FutureWarning: The frame.append method is deprecated and will be removed from pandas in a future version. Use pandas.concat instead.\n",
            "  comparative_classification_report = comparative_classification_report.append({\n",
            "<ipython-input-71-9de7d4d76a99>:8: FutureWarning: The frame.append method is deprecated and will be removed from pandas in a future version. Use pandas.concat instead.\n",
            "  comparative_classification_report = comparative_classification_report.append({\n",
            "<ipython-input-71-9de7d4d76a99>:8: FutureWarning: The frame.append method is deprecated and will be removed from pandas in a future version. Use pandas.concat instead.\n",
            "  comparative_classification_report = comparative_classification_report.append({\n",
            "<ipython-input-71-9de7d4d76a99>:8: FutureWarning: The frame.append method is deprecated and will be removed from pandas in a future version. Use pandas.concat instead.\n",
            "  comparative_classification_report = comparative_classification_report.append({\n",
            "<ipython-input-71-9de7d4d76a99>:8: FutureWarning: The frame.append method is deprecated and will be removed from pandas in a future version. Use pandas.concat instead.\n",
            "  comparative_classification_report = comparative_classification_report.append({\n"
          ]
        }
      ]
    }
  ]
}