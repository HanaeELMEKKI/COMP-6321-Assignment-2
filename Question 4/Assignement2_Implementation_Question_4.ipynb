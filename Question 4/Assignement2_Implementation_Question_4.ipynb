{
  "nbformat": 4,
  "nbformat_minor": 0,
  "metadata": {
    "colab": {
      "provenance": [],
      "authorship_tag": "ABX9TyOLvvkVM4PxbUz1asj5HrBM",
      "include_colab_link": true
    },
    "kernelspec": {
      "name": "python3",
      "display_name": "Python 3"
    },
    "language_info": {
      "name": "python"
    }
  },
  "cells": [
    {
      "cell_type": "markdown",
      "metadata": {
        "id": "view-in-github",
        "colab_type": "text"
      },
      "source": [
        "<a href=\"https://colab.research.google.com/github/HanaeELMEKKI/COMP-6321-Assignment-2/blob/main/Question%204/Assignement2_Implementation_Question_4.ipynb\" target=\"_parent\"><img src=\"https://colab.research.google.com/assets/colab-badge.svg\" alt=\"Open In Colab\"/></a>"
      ]
    },
    {
      "cell_type": "markdown",
      "source": [
        "# **Implementation Question 4**"
      ],
      "metadata": {
        "id": "wUUCPcbhrNI3"
      }
    },
    {
      "cell_type": "code",
      "source": [
        "import pandas as pd\n",
        "from sklearn.model_selection import train_test_split\n",
        "from sklearn.preprocessing import LabelEncoder\n",
        "from sklearn.neighbors import KNeighborsClassifier\n",
        "from sklearn.metrics import classification_report\n",
        "from sklearn.svm import SVC\n",
        "from sklearn.naive_bayes import GaussianNB\n",
        "from sklearn.tree import DecisionTreeClassifier\n",
        "from sklearn.ensemble import AdaBoostClassifier"
      ],
      "metadata": {
        "id": "aVlV2g1ysbci"
      },
      "execution_count": 1,
      "outputs": []
    },
    {
      "cell_type": "markdown",
      "source": [
        "**Pre-processing the data**"
      ],
      "metadata": {
        "id": "LAZebMeXtysx"
      }
    },
    {
      "cell_type": "code",
      "source": [
        "df = pd.read_csv('https://raw.githubusercontent.com/HanaeELMEKKI/COMP-6321-Assignment-2/main/Question%204/survey%20lung%20cancer.csv')\n",
        "label_encoder = LabelEncoder()\n",
        "df['GENDER'] = label_encoder.fit_transform(df['GENDER'])\n",
        "df_trn, df_tst = train_test_split( df, test_size=0.3,random_state=46)\n",
        "X_trn = df_trn.drop(columns=['LUNG_CANCER'])\n",
        "y_trn = df_trn['LUNG_CANCER']\n",
        "\n",
        "X_test = df_tst.drop(columns=['LUNG_CANCER'])\n",
        "y_test = df_tst['LUNG_CANCER']"
      ],
      "metadata": {
        "id": "8ktX8x7vs0HV"
      },
      "execution_count": 2,
      "outputs": []
    },
    {
      "cell_type": "markdown",
      "source": [
        "**Train KNN**"
      ],
      "metadata": {
        "id": "rUZu6D_It3J3"
      }
    },
    {
      "cell_type": "code",
      "source": [
        "knn_model = KNeighborsClassifier(n_neighbors=10)\n",
        "knn_model.fit(X_trn, y_trn)\n",
        "\n",
        "y_trn_pred_knn = knn_model.predict(X_trn)\n",
        "print(\"Classification Report for Training Set (KNN):\")\n",
        "print(classification_report(y_trn, y_trn_pred_knn))\n",
        "\n",
        "y_test_pred_knn = knn_model.predict(X_test)\n",
        "print(\"\\nClassification Report for Test Set (KNN):\")\n",
        "print(classification_report(y_test, y_test_pred_knn))"
      ],
      "metadata": {
        "colab": {
          "base_uri": "https://localhost:8080/"
        },
        "id": "Q7JiSUjGuPWp",
        "outputId": "0b5cd5a4-ec39-49a1-8bfc-ccd68d2f1117"
      },
      "execution_count": 3,
      "outputs": [
        {
          "output_type": "stream",
          "name": "stdout",
          "text": [
            "Classification Report for Training Set (KNN):\n",
            "              precision    recall  f1-score   support\n",
            "\n",
            "          NO       0.60      0.11      0.18        28\n",
            "         YES       0.88      0.99      0.93       188\n",
            "\n",
            "    accuracy                           0.88       216\n",
            "   macro avg       0.74      0.55      0.56       216\n",
            "weighted avg       0.85      0.88      0.84       216\n",
            "\n",
            "\n",
            "Classification Report for Test Set (KNN):\n",
            "              precision    recall  f1-score   support\n",
            "\n",
            "          NO       0.33      0.09      0.14        11\n",
            "         YES       0.89      0.98      0.93        82\n",
            "\n",
            "    accuracy                           0.87        93\n",
            "   macro avg       0.61      0.53      0.54        93\n",
            "weighted avg       0.82      0.87      0.84        93\n",
            "\n"
          ]
        }
      ]
    },
    {
      "cell_type": "markdown",
      "source": [
        "**Train SVM**"
      ],
      "metadata": {
        "id": "Fxxs2q6MuDV-"
      }
    },
    {
      "cell_type": "code",
      "source": [
        "svm_model = SVC()\n",
        "svm_model.fit(X_trn, y_trn)\n",
        "\n",
        "y_trn_pred_svm = svm_model.predict(X_trn)\n",
        "print(\"Classification Report for Training Set (SVM):\")\n",
        "print(classification_report(y_trn, y_trn_pred_svm))\n",
        "\n",
        "y_test_pred_svm = svm_model.predict(X_test)\n",
        "print(\"\\nClassification Report for Test Set (SVM):\")\n",
        "print(classification_report(y_test, y_test_pred_svm))"
      ],
      "metadata": {
        "colab": {
          "base_uri": "https://localhost:8080/"
        },
        "id": "BJfdlH8queHR",
        "outputId": "d1ced896-b887-45fc-f97a-969d9a70cbcc"
      },
      "execution_count": 4,
      "outputs": [
        {
          "output_type": "stream",
          "name": "stdout",
          "text": [
            "Classification Report for Training Set (SVM):\n",
            "              precision    recall  f1-score   support\n",
            "\n",
            "          NO       0.00      0.00      0.00        28\n",
            "         YES       0.87      1.00      0.93       188\n",
            "\n",
            "    accuracy                           0.87       216\n",
            "   macro avg       0.44      0.50      0.47       216\n",
            "weighted avg       0.76      0.87      0.81       216\n",
            "\n",
            "\n",
            "Classification Report for Test Set (SVM):\n",
            "              precision    recall  f1-score   support\n",
            "\n",
            "          NO       0.00      0.00      0.00        11\n",
            "         YES       0.88      1.00      0.94        82\n",
            "\n",
            "    accuracy                           0.88        93\n",
            "   macro avg       0.44      0.50      0.47        93\n",
            "weighted avg       0.78      0.88      0.83        93\n",
            "\n"
          ]
        },
        {
          "output_type": "stream",
          "name": "stderr",
          "text": [
            "/usr/local/lib/python3.10/dist-packages/sklearn/metrics/_classification.py:1344: UndefinedMetricWarning: Precision and F-score are ill-defined and being set to 0.0 in labels with no predicted samples. Use `zero_division` parameter to control this behavior.\n",
            "  _warn_prf(average, modifier, msg_start, len(result))\n",
            "/usr/local/lib/python3.10/dist-packages/sklearn/metrics/_classification.py:1344: UndefinedMetricWarning: Precision and F-score are ill-defined and being set to 0.0 in labels with no predicted samples. Use `zero_division` parameter to control this behavior.\n",
            "  _warn_prf(average, modifier, msg_start, len(result))\n",
            "/usr/local/lib/python3.10/dist-packages/sklearn/metrics/_classification.py:1344: UndefinedMetricWarning: Precision and F-score are ill-defined and being set to 0.0 in labels with no predicted samples. Use `zero_division` parameter to control this behavior.\n",
            "  _warn_prf(average, modifier, msg_start, len(result))\n",
            "/usr/local/lib/python3.10/dist-packages/sklearn/metrics/_classification.py:1344: UndefinedMetricWarning: Precision and F-score are ill-defined and being set to 0.0 in labels with no predicted samples. Use `zero_division` parameter to control this behavior.\n",
            "  _warn_prf(average, modifier, msg_start, len(result))\n",
            "/usr/local/lib/python3.10/dist-packages/sklearn/metrics/_classification.py:1344: UndefinedMetricWarning: Precision and F-score are ill-defined and being set to 0.0 in labels with no predicted samples. Use `zero_division` parameter to control this behavior.\n",
            "  _warn_prf(average, modifier, msg_start, len(result))\n",
            "/usr/local/lib/python3.10/dist-packages/sklearn/metrics/_classification.py:1344: UndefinedMetricWarning: Precision and F-score are ill-defined and being set to 0.0 in labels with no predicted samples. Use `zero_division` parameter to control this behavior.\n",
            "  _warn_prf(average, modifier, msg_start, len(result))\n"
          ]
        }
      ]
    },
    {
      "cell_type": "markdown",
      "source": [
        "**Train GaussianNB**"
      ],
      "metadata": {
        "id": "Rgqka2TJuLag"
      }
    },
    {
      "cell_type": "code",
      "source": [
        "nb_model = GaussianNB()\n",
        "nb_model.fit(X_trn, y_trn)\n",
        "\n",
        "y_trn_pred_nb = nb_model.predict(X_trn)\n",
        "print(\"Classification Report for Training Set (GaussianNB):\")\n",
        "print(classification_report(y_trn, y_trn_pred_nb))\n",
        "\n",
        "y_test_pred_nb = nb_model.predict(X_test)\n",
        "print(\"\\nClassification Report for Test Set (GaussianNB):\")\n",
        "print(classification_report(y_test, y_test_pred_nb))"
      ],
      "metadata": {
        "colab": {
          "base_uri": "https://localhost:8080/"
        },
        "id": "rQuo_utguv1L",
        "outputId": "a2e99fc1-8261-444e-f1e6-a241db0f36da"
      },
      "execution_count": 5,
      "outputs": [
        {
          "output_type": "stream",
          "name": "stdout",
          "text": [
            "Classification Report for Training Set (GaussianNB):\n",
            "              precision    recall  f1-score   support\n",
            "\n",
            "          NO       0.64      0.64      0.64        28\n",
            "         YES       0.95      0.95      0.95       188\n",
            "\n",
            "    accuracy                           0.91       216\n",
            "   macro avg       0.79      0.79      0.79       216\n",
            "weighted avg       0.91      0.91      0.91       216\n",
            "\n",
            "\n",
            "Classification Report for Test Set (GaussianNB):\n",
            "              precision    recall  f1-score   support\n",
            "\n",
            "          NO       0.64      0.64      0.64        11\n",
            "         YES       0.95      0.95      0.95        82\n",
            "\n",
            "    accuracy                           0.91        93\n",
            "   macro avg       0.79      0.79      0.79        93\n",
            "weighted avg       0.91      0.91      0.91        93\n",
            "\n"
          ]
        }
      ]
    },
    {
      "cell_type": "markdown",
      "source": [
        "**Train Decision Tree**"
      ],
      "metadata": {
        "id": "Zr31eXYmw8HS"
      }
    },
    {
      "cell_type": "code",
      "source": [
        "dt_model = DecisionTreeClassifier()\n",
        "dt_model.fit(X_trn, y_trn)\n",
        "\n",
        "y_trn_pred_dt = dt_model.predict(X_trn)\n",
        "print(\"Classification Report for Training Set (Decision Tree):\")\n",
        "print(classification_report(y_trn, y_trn_pred_dt))\n",
        "\n",
        "y_test_pred_dt = dt_model.predict(X_test)\n",
        "print(\"\\nClassification Report for Test Set (Decision Tree):\")\n",
        "print(classification_report(y_test, y_test_pred_dt))"
      ],
      "metadata": {
        "colab": {
          "base_uri": "https://localhost:8080/"
        },
        "id": "cJZpWpZxvBV-",
        "outputId": "98a2be5e-8a37-4f05-a58b-dcfcd64385ab"
      },
      "execution_count": 6,
      "outputs": [
        {
          "output_type": "stream",
          "name": "stdout",
          "text": [
            "Classification Report for Training Set (Decision Tree):\n",
            "              precision    recall  f1-score   support\n",
            "\n",
            "          NO       0.97      1.00      0.98        28\n",
            "         YES       1.00      0.99      1.00       188\n",
            "\n",
            "    accuracy                           1.00       216\n",
            "   macro avg       0.98      1.00      0.99       216\n",
            "weighted avg       1.00      1.00      1.00       216\n",
            "\n",
            "\n",
            "Classification Report for Test Set (Decision Tree):\n",
            "              precision    recall  f1-score   support\n",
            "\n",
            "          NO       0.64      0.64      0.64        11\n",
            "         YES       0.95      0.95      0.95        82\n",
            "\n",
            "    accuracy                           0.91        93\n",
            "   macro avg       0.79      0.79      0.79        93\n",
            "weighted avg       0.91      0.91      0.91        93\n",
            "\n"
          ]
        }
      ]
    },
    {
      "cell_type": "markdown",
      "source": [
        "**Train AdaBoost**"
      ],
      "metadata": {
        "id": "6eVDKDYHw8q1"
      }
    },
    {
      "cell_type": "code",
      "source": [
        "adaboost_model = AdaBoostClassifier(n_estimators=50, random_state=42)\n",
        "adaboost_model.fit(X_trn, y_trn)\n",
        "\n",
        "y_trn_pred_ab = adaboost_model.predict(X_trn)\n",
        "print(\"Classification Report for Training Set (AdaBoost):\")\n",
        "print(classification_report(y_trn, y_trn_pred_ab))\n",
        "\n",
        "y_test_pred_ab = adaboost_model.predict(X_test)\n",
        "print(\"\\nClassification Report for Test Set (AdaBoost):\")\n",
        "print(classification_report(y_test, y_test_pred_ab))"
      ],
      "metadata": {
        "colab": {
          "base_uri": "https://localhost:8080/"
        },
        "id": "CWHlLaZjvDn5",
        "outputId": "4e329f2d-ce66-48ec-cc61-9957ae8b5fbc"
      },
      "execution_count": 7,
      "outputs": [
        {
          "output_type": "stream",
          "name": "stdout",
          "text": [
            "Classification Report for Training Set (AdaBoost):\n",
            "              precision    recall  f1-score   support\n",
            "\n",
            "          NO       0.75      0.64      0.69        28\n",
            "         YES       0.95      0.97      0.96       188\n",
            "\n",
            "    accuracy                           0.93       216\n",
            "   macro avg       0.85      0.81      0.83       216\n",
            "weighted avg       0.92      0.93      0.92       216\n",
            "\n",
            "\n",
            "Classification Report for Test Set (AdaBoost):\n",
            "              precision    recall  f1-score   support\n",
            "\n",
            "          NO       1.00      0.64      0.78        11\n",
            "         YES       0.95      1.00      0.98        82\n",
            "\n",
            "    accuracy                           0.96        93\n",
            "   macro avg       0.98      0.82      0.88        93\n",
            "weighted avg       0.96      0.96      0.95        93\n",
            "\n"
          ]
        }
      ]
    },
    {
      "cell_type": "markdown",
      "source": [
        "**Comparison**"
      ],
      "metadata": {
        "id": "07QgzWRUzS8n"
      }
    }
  ]
}