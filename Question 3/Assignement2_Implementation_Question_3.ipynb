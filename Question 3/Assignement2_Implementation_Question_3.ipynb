{
  "nbformat": 4,
  "nbformat_minor": 0,
  "metadata": {
    "colab": {
      "provenance": [],
      "authorship_tag": "ABX9TyM/rNQyTsF9om18VGrHTqkF",
      "include_colab_link": true
    },
    "kernelspec": {
      "name": "python3",
      "display_name": "Python 3"
    },
    "language_info": {
      "name": "python"
    }
  },
  "cells": [
    {
      "cell_type": "markdown",
      "metadata": {
        "id": "view-in-github",
        "colab_type": "text"
      },
      "source": [
        "<a href=\"https://colab.research.google.com/github/HanaeELMEKKI/COMP-6321-Assignment-2/blob/main/Question%203/Assignement2_Implementation_Question_3.ipynb\" target=\"_parent\"><img src=\"https://colab.research.google.com/assets/colab-badge.svg\" alt=\"Open In Colab\"/></a>"
      ]
    },
    {
      "cell_type": "markdown",
      "source": [
        "# **Implementation Question 3**"
      ],
      "metadata": {
        "id": "wUUCPcbhrNI3"
      }
    },
    {
      "cell_type": "markdown",
      "source": [
        "**Normalize the image**"
      ],
      "metadata": {
        "id": "LAZebMeXtysx"
      }
    },
    {
      "cell_type": "markdown",
      "source": [
        "**Plot the orginal normalized image as well as the color space of the image**"
      ],
      "metadata": {
        "id": "rUZu6D_It3J3"
      }
    },
    {
      "cell_type": "markdown",
      "source": [
        "**K-MEANS Application**"
      ],
      "metadata": {
        "id": "Fxxs2q6MuDV-"
      }
    },
    {
      "cell_type": "markdown",
      "source": [
        "**Plot the color space**"
      ],
      "metadata": {
        "id": "Rgqka2TJuLag"
      }
    },
    {
      "cell_type": "markdown",
      "source": [
        "**Plot the recolored image**"
      ],
      "metadata": {
        "id": "Zr31eXYmw8HS"
      }
    },
    {
      "cell_type": "markdown",
      "source": [
        "**Calculation the MSE**"
      ],
      "metadata": {
        "id": "6eVDKDYHw8q1"
      }
    }
  ]
}